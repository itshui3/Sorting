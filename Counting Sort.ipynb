{
 "cells": [
  {
   "cell_type": "markdown",
   "metadata": {},
   "source": [
    "print('sanity')"
   ]
  },
  {
   "cell_type": "code",
   "execution_count": 1,
   "metadata": {},
   "outputs": [
    {
     "name": "stdout",
     "output_type": "stream",
     "text": [
      "[4, 49, 0, 32, 8, 49, 26, 48, 22, 47, 23, 50, 9, 6, 48, 5, 5, 7, 22, 16]\n"
     ]
    }
   ],
   "source": [
    "import random\n",
    "myList = []\n",
    "for i in range(0, 20):\n",
    "    myList.append(random.randint(0, 50))\n",
    "    \n",
    "print(myList)"
   ]
  },
  {
   "cell_type": "code",
   "execution_count": 2,
   "metadata": {},
   "outputs": [
    {
     "name": "stdout",
     "output_type": "stream",
     "text": [
      "50\n"
     ]
    }
   ],
   "source": [
    "#Get Highest Numbered Value\n",
    "k = 0\n",
    "for i in myList:\n",
    "    if(i > k):\n",
    "        k = i\n",
    "print(k)"
   ]
  },
  {
   "cell_type": "code",
   "execution_count": 3,
   "metadata": {},
   "outputs": [
    {
     "name": "stdout",
     "output_type": "stream",
     "text": [
      "[0, 0, 0, 0, 0, 0, 0, 0, 0, 0, 0, 0, 0, 0, 0, 0, 0, 0, 0, 0, 0, 0, 0, 0, 0, 0, 0, 0, 0, 0, 0, 0, 0, 0, 0, 0, 0, 0, 0, 0, 0, 0, 0, 0, 0, 0, 0, 0, 0, 0, 0]\n"
     ]
    }
   ],
   "source": [
    "#Generate a list for occurrences (Can I skip this?)\n",
    "occur = []\n",
    "for i in range(0, k + 1):\n",
    "    occur.append(0)\n",
    "    \n",
    "print(occur)"
   ]
  },
  {
   "cell_type": "code",
   "execution_count": 4,
   "metadata": {},
   "outputs": [
    {
     "name": "stdout",
     "output_type": "stream",
     "text": [
      "[1, 0, 0, 0, 1, 2, 1, 1, 1, 1, 0, 0, 0, 0, 0, 0, 1, 0, 0, 0, 0, 0, 2, 1, 0, 0, 1, 0, 0, 0, 0, 0, 1, 0, 0, 0, 0, 0, 0, 0, 0, 0, 0, 0, 0, 0, 0, 1, 2, 2, 1]\n"
     ]
    }
   ],
   "source": [
    "#Store Occurrences\n",
    "for i in myList:\n",
    "    occur[i] += 1\n",
    "print(occur)"
   ]
  },
  {
   "cell_type": "code",
   "execution_count": 5,
   "metadata": {},
   "outputs": [
    {
     "name": "stdout",
     "output_type": "stream",
     "text": [
      "[1, 1, 1, 1, 2, 4, 5, 6, 7, 8, 8, 8, 8, 8, 8, 8, 9, 9, 9, 9, 9, 9, 11, 12, 12, 12, 13, 13, 13, 13, 13, 13, 14, 14, 14, 14, 14, 14, 14, 14, 14, 14, 14, 14, 14, 14, 14, 15, 17, 19, 20]\n"
     ]
    }
   ],
   "source": [
    "#Fill-in Accumulation\n",
    "accumulation = []\n",
    "acc = 0\n",
    "for i in occur:\n",
    "    acc += i\n",
    "    accumulation.append(acc)\n",
    "print(accumulation)"
   ]
  },
  {
   "cell_type": "code",
   "execution_count": 6,
   "metadata": {},
   "outputs": [
    {
     "name": "stdout",
     "output_type": "stream",
     "text": [
      "[0, 1, 1, 1, 1, 2, 4, 5, 6, 7, 8, 8, 8, 8, 8, 8, 8, 9, 9, 9, 9, 9, 9, 11, 12, 12, 12, 13, 13, 13, 13, 13, 13, 14, 14, 14, 14, 14, 14, 14, 14, 14, 14, 14, 14, 14, 14, 14, 15, 17, 19]\n"
     ]
    }
   ],
   "source": [
    "#Right Shift Accumulation\n",
    "shift = []\n",
    "shift.append(0)\n",
    "for i in range(0, len(accumulation)-1):\n",
    "    shift.append(accumulation[i])\n",
    "print(shift)"
   ]
  },
  {
   "cell_type": "code",
   "execution_count": 7,
   "metadata": {},
   "outputs": [
    {
     "name": "stdout",
     "output_type": "stream",
     "text": [
      "[0, 0, 0, 0, 0, 0, 0, 0, 0, 0, 0, 0, 0, 0, 0, 0, 0, 0, 0, 0]\n"
     ]
    }
   ],
   "source": [
    "#Make a new list\n",
    "newList = []\n",
    "for i in myList:\n",
    "    newList.append(0)\n",
    "print(newList)"
   ]
  },
  {
   "cell_type": "code",
   "execution_count": 8,
   "metadata": {},
   "outputs": [
    {
     "name": "stdout",
     "output_type": "stream",
     "text": [
      "[0, 4, 5, 5, 6, 7, 8, 9, 16, 22, 22, 23, 26, 32, 47, 48, 48, 49, 49, 50]\n"
     ]
    }
   ],
   "source": [
    "#Generate sorted list\n",
    "for i in myList:\n",
    "    #Check where i starts in 'shift'\n",
    "    newList[shift[i]] = i\n",
    "    shift[i] += 1\n",
    "    \n",
    "print(newList)"
   ]
  }
 ],
 "metadata": {
  "kernelspec": {
   "display_name": "Python 3",
   "language": "python",
   "name": "python3"
  },
  "language_info": {
   "codemirror_mode": {
    "name": "ipython",
    "version": 3
   },
   "file_extension": ".py",
   "mimetype": "text/x-python",
   "name": "python",
   "nbconvert_exporter": "python",
   "pygments_lexer": "ipython3",
   "version": "3.7.0"
  }
 },
 "nbformat": 4,
 "nbformat_minor": 4
}
