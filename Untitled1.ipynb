{
 "cells": [
  {
   "cell_type": "code",
   "execution_count": 1,
   "metadata": {},
   "outputs": [],
   "source": [
    "# Selection Sort"
   ]
  },
  {
   "cell_type": "code",
   "execution_count": null,
   "metadata": {},
   "outputs": [],
   "source": [
    "# Bubble Sort\n",
    "def bubble_sort( arr ):\n",
    "    swaqps_occured = True\n",
    "    # Run until you get through a loop without any swaps\n",
    "    while swaps_occured:\n",
    "        swaps_occured = False\n",
    "    # Make a flag to show if swaps have occured\n",
    "    # For each element in the array...\n",
    "        for i in range(len(arr) - 1):\n",
    "            \n",
    "        # If neighbor is smaller, swap and make Flag true\n",
    "            if arr[i] > arr[i+1]:\n",
    "                arr[i], arr[i+1] = arr[i+1], arr[i]\n",
    "                swaps_occured = True\n",
    "    # If you get to the end and swaps have occured, start again\n",
    "    "
   ]
  },
  {
   "cell_type": "code",
   "execution_count": null,
   "metadata": {},
   "outputs": [],
   "source": [
    "quicksort([2, 8, 6, 0, 1, 7, 5, 4, 3, 9])\n",
    "\n",
    "pivot = 2\n",
    "smaller = [0, 1]\n",
    "larger = [8, 6, 7, 5, 4, 3, 9]\n",
    "# The two arrays don't seem to have to be in order? \n",
    "\n",
    "quicksort([0, 1]) + [2] + quicksort([8, 6, 7, 5, 4, 3, 9])\n",
    "\n",
    "#Now recursively call quick sort on the two halves\n",
    "\n",
    "pivot = 0\n",
    "smaller = []\n",
    "larger = [1]\n",
    "\n",
    "return quicksort([]) + [0] + quicksort([1])\n"
   ]
  }
 ],
 "metadata": {
  "kernelspec": {
   "display_name": "Python 3",
   "language": "python",
   "name": "python3"
  },
  "language_info": {
   "codemirror_mode": {
    "name": "ipython",
    "version": 3
   },
   "file_extension": ".py",
   "mimetype": "text/x-python",
   "name": "python",
   "nbconvert_exporter": "python",
   "pygments_lexer": "ipython3",
   "version": "3.7.0"
  }
 },
 "nbformat": 4,
 "nbformat_minor": 4
}
