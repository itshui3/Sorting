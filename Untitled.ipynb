{
 "cells": [
  {
   "cell_type": "code",
   "execution_count": 1,
   "metadata": {},
   "outputs": [],
   "source": [
    "def selection_sort( arr ):\n",
    "    # loop through n-1 elements\n",
    "    for i in range(0, len(arr) - 1):\n",
    "        cur_index = i\n",
    "        smallest_index = cur_index\n",
    "        # TO-DO: find next smallest element\n",
    "        # (hint, can do in 3 loc) \n",
    "        while cur_index < len(arr):\n",
    "            if(arr[smallest_index] > arr[cur_index]):\n",
    "                smallest_index = cur_index\n",
    "                cur_index += 1\n",
    "\n",
    "        # TO-DO: swap\n",
    "        print('hi')\n",
    "        cur_smol = arr[smallest_index]\n",
    "        swap_me = arr[i]\n",
    "\n",
    "        arr[smallest_index] = swap_me\n",
    "        arr[i] = cur_smol\n",
    "\n",
    "    return arr"
   ]
  },
  {
   "cell_type": "code",
   "execution_count": 2,
   "metadata": {},
   "outputs": [],
   "source": [
    "import random\n",
    "myList = []\n",
    "for i in range(0, 50):\n",
    "    myList.append(random.randint(0, 500))\n",
    "\n",
    "print(myList)"
   ]
  },
  {
   "cell_type": "code",
   "execution_count": null,
   "metadata": {},
   "outputs": [],
   "source": [
    "print(selection_sort(myList))"
   ]
  }
 ],
 "metadata": {
  "kernelspec": {
   "display_name": "Python 3",
   "language": "python",
   "name": "python3"
  },
  "language_info": {
   "codemirror_mode": {
    "name": "ipython",
    "version": 3
   },
   "file_extension": ".py",
   "mimetype": "text/x-python",
   "name": "python",
   "nbconvert_exporter": "python",
   "pygments_lexer": "ipython3",
   "version": "3.7.0"
  }
 },
 "nbformat": 4,
 "nbformat_minor": 4
}
