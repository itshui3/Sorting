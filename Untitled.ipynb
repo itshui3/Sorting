{
 "cells": [
  {
   "cell_type": "code",
   "execution_count": 1,
   "metadata": {},
   "outputs": [],
   "source": [
    "def selection_sort( arr ):\n",
    "    # loop through n-1 elements\n",
    "    for i in range(0, len(arr) - 1):\n",
    "        cur_index = i\n",
    "        smallest_index = cur_index\n",
    "        # TO-DO: find next smallest element\n",
    "        # (hint, can do in 3 loc) \n",
    "        while cur_index < len(arr):\n",
    "            if(arr[smallest_index] > arr[cur_index]):\n",
    "                smallest_index = cur_index\n",
    "            cur_index += 1\n",
    "\n",
    "        # TO-DO: swap\n",
    "        cur_smol = arr[smallest_index]\n",
    "        swap_me = arr[i]\n",
    "\n",
    "        arr[smallest_index] = swap_me\n",
    "        arr[i] = cur_smol\n",
    "\n",
    "    return arr"
   ]
  },
  {
   "cell_type": "code",
   "execution_count": 2,
   "metadata": {},
   "outputs": [
    {
     "name": "stdout",
     "output_type": "stream",
     "text": [
      "[201, 96, 251, 15, 275, 490, 406, 384, 479, 128, 441, 64, 66, 331, 326, 0, 331, 70, 40, 390, 144, 67, 383, 270, 294, 108, 431, 193, 334, 407, 5, 109, 157, 311, 49, 456, 66, 314, 391, 382, 450, 92, 137, 154, 371, 189, 366, 65, 106, 22]\n"
     ]
    }
   ],
   "source": [
    "import random\n",
    "myList = []\n",
    "for i in range(0, 50):\n",
    "    myList.append(random.randint(0, 500))\n",
    "\n",
    "print(myList)"
   ]
  },
  {
   "cell_type": "code",
   "execution_count": 3,
   "metadata": {},
   "outputs": [
    {
     "name": "stdout",
     "output_type": "stream",
     "text": [
      "hi\n",
      "hi\n",
      "hi\n",
      "hi\n",
      "hi\n",
      "hi\n",
      "hi\n",
      "hi\n",
      "hi\n",
      "hi\n",
      "hi\n",
      "hi\n",
      "hi\n",
      "hi\n",
      "hi\n",
      "hi\n",
      "hi\n",
      "hi\n",
      "hi\n",
      "hi\n",
      "hi\n",
      "hi\n",
      "hi\n",
      "hi\n",
      "hi\n",
      "hi\n",
      "hi\n",
      "hi\n",
      "hi\n",
      "hi\n",
      "hi\n",
      "hi\n",
      "hi\n",
      "hi\n",
      "hi\n",
      "hi\n",
      "hi\n",
      "hi\n",
      "hi\n",
      "hi\n",
      "hi\n",
      "hi\n",
      "hi\n",
      "hi\n",
      "hi\n",
      "hi\n",
      "hi\n",
      "hi\n",
      "hi\n",
      "[0, 5, 15, 22, 40, 49, 64, 65, 66, 66, 67, 70, 92, 96, 106, 108, 109, 128, 137, 144, 154, 157, 189, 193, 201, 251, 270, 275, 294, 311, 314, 326, 331, 331, 334, 366, 371, 382, 383, 384, 390, 391, 406, 407, 431, 441, 450, 456, 479, 490]\n"
     ]
    }
   ],
   "source": [
    "print(selection_sort(myList))"
   ]
  }
 ],
 "metadata": {
  "kernelspec": {
   "display_name": "Python 3",
   "language": "python",
   "name": "python3"
  },
  "language_info": {
   "codemirror_mode": {
    "name": "ipython",
    "version": 3
   },
   "file_extension": ".py",
   "mimetype": "text/x-python",
   "name": "python",
   "nbconvert_exporter": "python",
   "pygments_lexer": "ipython3",
   "version": "3.7.0"
  }
 },
 "nbformat": 4,
 "nbformat_minor": 4
}
