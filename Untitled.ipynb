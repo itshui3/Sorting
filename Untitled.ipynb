{
 "cells": [
  {
   "cell_type": "code",
   "execution_count": 1,
   "metadata": {},
   "outputs": [
    {
     "name": "stdout",
     "output_type": "stream",
     "text": [
      "[4, 6, 10, 7, 7, 7, 8, 7, 1, 3]\n"
     ]
    }
   ],
   "source": [
    "import random\n",
    "myList = []\n",
    "for i in range(0, 10):\n",
    "    myList.append(random.randint(0, 10))\n",
    "\n",
    "print(myList)"
   ]
  },
  {
   "cell_type": "code",
   "execution_count": 2,
   "metadata": {},
   "outputs": [
    {
     "name": "stdout",
     "output_type": "stream",
     "text": [
      "10\n",
      "[0, 0, 0, 0, 0, 0, 0, 0, 0, 0, 0]\n"
     ]
    }
   ],
   "source": [
    "#Generate occurence list\n",
    "k = 0\n",
    "for i in myList:\n",
    "    if(k < i):\n",
    "        k = i\n",
    "        \n",
    "print(k)\n",
    "occur = []\n",
    "for i in range(0, k + 1):\n",
    "    occur.append(0)\n",
    "print(occur)\n"
   ]
  },
  {
   "cell_type": "code",
   "execution_count": 3,
   "metadata": {},
   "outputs": [
    {
     "name": "stdout",
     "output_type": "stream",
     "text": [
      "[0, 1, 0, 1, 1, 0, 1, 4, 1, 0, 1]\n"
     ]
    }
   ],
   "source": [
    "#Counting\n",
    "for i in myList:\n",
    "    occur[i] += 1\n",
    "    \n",
    "print(occur)"
   ]
  }
 ],
 "metadata": {
  "kernelspec": {
   "display_name": "Python 3",
   "language": "python",
   "name": "python3"
  },
  "language_info": {
   "codemirror_mode": {
    "name": "ipython",
    "version": 3
   },
   "file_extension": ".py",
   "mimetype": "text/x-python",
   "name": "python",
   "nbconvert_exporter": "python",
   "pygments_lexer": "ipython3",
   "version": "3.7.0"
  }
 },
 "nbformat": 4,
 "nbformat_minor": 4
}
