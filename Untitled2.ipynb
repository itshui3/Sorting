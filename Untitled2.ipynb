{
 "cells": [
  {
   "cell_type": "code",
   "execution_count": 1,
   "metadata": {},
   "outputs": [],
   "source": [
    "# Calculating Factorial\n",
    "\n",
    "def factorial(n):\n",
    "    \n",
    "    if(n < 1):\n",
    "        return 1\n",
    "    \n",
    "    return n * factorial(n - 1)\n",
    "\n",
    "#because the proceeding call of factorial will leave a variable 'n' from the passed (n-1), it will leave a multiplier before \n",
    "#calling its proceding factorial to generate the sequence of multipliers. This process stops when n == 0 because the condition\n",
    "#of it being less tahn 1 has been fulfilled, thus not recalling factorial and ending the chain\n",
    "#let's test"
   ]
  },
  {
   "cell_type": "code",
   "execution_count": 2,
   "metadata": {},
   "outputs": [
    {
     "name": "stdout",
     "output_type": "stream",
     "text": [
      "120\n"
     ]
    }
   ],
   "source": [
    "print(factorial(5))"
   ]
  },
  {
   "cell_type": "code",
   "execution_count": 3,
   "metadata": {},
   "outputs": [],
   "source": [
    "# I want a search function that uses recursion\n",
    "# It will receive an input of (int_arr: int[], target: int)\n",
    "# The base case will return True if the target element exists in the list, and False if it doesn't exist in the list\n",
    "# This base case needs to occur either once the list has been searched completely, or if the target element has been found"
   ]
  },
  {
   "cell_type": "code",
   "execution_count": 4,
   "metadata": {},
   "outputs": [],
   "source": [
    "def recurse_close():\n",
    "    counter = 0\n",
    "    def recurse_search(numbers, target):\n",
    "        #Base case. Occur if element found or end of list\n",
    "        \n",
    "        #Problem encountered: If I'm going to iteratively search, I'll need some way to save search progress. \n",
    "        #1 Method, closure variables. Closure can persist between recurses due to it existing in an outer scope \n",
    "        #2 Method, ???. Is there a such thing? \n",
    "        nonlocal counter \n",
    "        \n",
    "        if(numbers[counter] == target):\n",
    "            return True\n",
    "        counter += 1\n",
    "        if(counter == len(numbers)):\n",
    "            return False\n",
    "        return recurse_search(numbers, target)\n",
    "    return recurse_search\n",
    "has_num = recurse_close()"
   ]
  },
  {
   "cell_type": "code",
   "execution_count": 5,
   "metadata": {},
   "outputs": [
    {
     "name": "stdout",
     "output_type": "stream",
     "text": [
      "[9, 0, 6, 4, 8, 7, 10, 4, 9, 5]\n"
     ]
    }
   ],
   "source": [
    "import random\n",
    "myNumList = []\n",
    "for i in range(0, 10):\n",
    "    myNumList.append(random.randint(0, 10))\n",
    "    \n",
    "print(myNumList)"
   ]
  },
  {
   "cell_type": "code",
   "execution_count": 6,
   "metadata": {},
   "outputs": [
    {
     "name": "stdout",
     "output_type": "stream",
     "text": [
      "True\n"
     ]
    }
   ],
   "source": [
    "print(has_num(myNumList, 5))"
   ]
  }
 ],
 "metadata": {
  "kernelspec": {
   "display_name": "Python 3",
   "language": "python",
   "name": "python3"
  },
  "language_info": {
   "codemirror_mode": {
    "name": "ipython",
    "version": 3
   },
   "file_extension": ".py",
   "mimetype": "text/x-python",
   "name": "python",
   "nbconvert_exporter": "python",
   "pygments_lexer": "ipython3",
   "version": "3.7.0"
  }
 },
 "nbformat": 4,
 "nbformat_minor": 4
}
