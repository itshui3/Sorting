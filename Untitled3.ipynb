{
 "cells": [
  {
   "cell_type": "code",
   "execution_count": 1,
   "metadata": {},
   "outputs": [],
   "source": [
    "def selection_sort( arr ): # try to minimize to i, j variables\n",
    "    for i in range(0, len(arr) - 1):\n",
    "        cur_index = i + 1 # i doesn't need checking\n",
    "        smallest_index = cur_index\n",
    "        while cur_index < len(arr):\n",
    "            if(arr[smallest_index] > arr[cur_index]):\n",
    "                smallest_index = cur_index\n",
    "            cur_index += 1\n",
    "\n",
    "        arr[i], arr[smallest_index] = arr[smallest_index], arr[i]\n",
    "\n",
    "    return arr"
   ]
  },
  {
   "cell_type": "code",
   "execution_count": 2,
   "metadata": {},
   "outputs": [
    {
     "name": "stdout",
     "output_type": "stream",
     "text": [
      "[0, 0, 1, 2, 2, 2, 3, 4, 4, 5]\n"
     ]
    }
   ],
   "source": [
    "import random\n",
    "myList = []\n",
    "for i in range(0, 10):\n",
    "    myList.append(random.randint(0, 5))\n",
    "    \n",
    "print(selection_sort(myList))"
   ]
  }
 ],
 "metadata": {
  "kernelspec": {
   "display_name": "Python 3",
   "language": "python",
   "name": "python3"
  },
  "language_info": {
   "codemirror_mode": {
    "name": "ipython",
    "version": 3
   },
   "file_extension": ".py",
   "mimetype": "text/x-python",
   "name": "python",
   "nbconvert_exporter": "python",
   "pygments_lexer": "ipython3",
   "version": "3.7.0"
  }
 },
 "nbformat": 4,
 "nbformat_minor": 4
}
